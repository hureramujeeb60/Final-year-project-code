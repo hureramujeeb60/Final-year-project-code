{
  "nbformat": 4,
  "nbformat_minor": 0,
  "metadata": {
    "colab": {
      "provenance": [],
      "authorship_tag": "ABX9TyN9Gx3CMBljKvAJ7erlxWH+",
      "include_colab_link": true
    },
    "kernelspec": {
      "name": "python3",
      "display_name": "Python 3"
    },
    "language_info": {
      "name": "python"
    }
  },
  "cells": [
    {
      "cell_type": "markdown",
      "metadata": {
        "id": "view-in-github",
        "colab_type": "text"
      },
      "source": [
        "<a href=\"https://colab.research.google.com/github/hureramujeeb60/Final-year-project-code/blob/main/fyp_code.ipynb\" target=\"_parent\"><img src=\"https://colab.research.google.com/assets/colab-badge.svg\" alt=\"Open In Colab\"/></a>"
      ]
    },
    {
      "cell_type": "code",
      "execution_count": null,
      "metadata": {
        "id": "xSl3maJOSrtz"
      },
      "outputs": [],
      "source": [
        "from google.colab import drive\n",
        "drive.mount('/content/drive')"
      ]
    },
    {
      "cell_type": "code",
      "source": [
        "import numpy as np\n",
        "import pandas as pd\n",
        "import matplotlib.pyplot as plt\n",
        "import seaborn as sns\n",
        "from sklearn.metrics import confusion_matrix, roc_curve, auc\n",
        "from tensorflow.keras.preprocessing.image import ImageDataGenerator\n",
        "from tensorflow.keras.applications import DenseNet121\n",
        "from tensorflow.keras import layers, models\n",
        "from tensorflow.keras.optimizers import Adam\n",
        "import joblib\n",
        "\n",
        "# Define paths\n",
        "train_dir = '/kaggle/input/melanoma-skin-cancer-dataset-of-10000-images/melanoma_cancer_dataset/train'\n",
        "test_dir = '/kaggle/input/melanoma-skin-cancer-dataset-of-10000-images/melanoma_cancer_dataset/test'\n",
        "\n",
        "# Data augmentation and loading\n",
        "train_datagen = ImageDataGenerator(\n",
        "    rescale=1./255,\n",
        "    rotation_range=20,\n",
        "    width_shift_range=0.2,\n",
        "    height_shift_range=0.2,\n",
        "    shear_range=0.2,\n",
        "    zoom_range=0.2,\n",
        "    horizontal_flip=True,\n",
        "    fill_mode='nearest'\n",
        ")\n",
        "\n",
        "test_datagen = ImageDataGenerator(rescale=1./255)\n",
        "\n",
        "train_generator = train_datagen.flow_from_directory(\n",
        "    train_dir,\n",
        "    target_size=(224, 224),\n",
        "    batch_size=32,\n",
        "    class_mode='binary'\n",
        ")\n",
        "\n",
        "test_generator = test_datagen.flow_from_directory(\n",
        "    test_dir,\n",
        "    target_size=(224, 224),\n",
        "    batch_size=32,\n",
        "    class_mode='binary',\n",
        "    shuffle=False  # Important for confusion matrix\n",
        ")\n",
        "\n",
        "# Build the DenseNet121 model\n",
        "base_model = DenseNet121(weights='imagenet', include_top=False, input_shape=(224, 224, 3))\n",
        "base_model.trainable = False  # Freeze the base model\n",
        "\n",
        "model = models.Sequential([\n",
        "    base_model,\n",
        "    layers.Flatten(),\n",
        "    layers.Dense(256, activation='relu'),\n",
        "    layers.Dropout(0.5),\n",
        "    layers.Dense(1, activation='sigmoid')\n",
        "])\n",
        "\n",
        "# Compile the model\n",
        "model.compile(optimizer=Adam(learning_rate=0.0001),\n",
        "              loss='binary_crossentropy',\n",
        "              metrics=['accuracy'])\n",
        "\n",
        "# Train the model\n",
        "history = model.fit(train_generator, epochs=20, validation_data=test_generator)\n",
        "\n",
        "# Evaluate the model\n",
        "test_loss, test_accuracy = model.evaluate(test_generator)\n",
        "print(f'Test Accuracy: {test_accuracy:.4f}')\n",
        "\n",
        "# Get predictions\n",
        "y_pred_probs = model.predict(test_generator)  # Get probabilities\n",
        "y_pred_binary = (y_pred_probs > 0.5).astype(int)  # Convert to binary predictions\n",
        "\n",
        "# Confusion matrix\n",
        "cm = confusion_matrix(test_generator.classes, y_pred_binary)\n",
        "\n",
        "# Plotting confusion matrix\n",
        "sns.heatmap(cm, annot=True, fmt='d', cmap='Blues', xticklabels=['No Melanoma', 'Melanoma'], yticklabels=['No Melanoma', 'Melanoma'])\n",
        "plt.xlabel('Predicted')\n",
        "plt.ylabel('Actual')\n",
        "plt.title('Confusion Matrix')\n",
        "plt.show()\n",
        "\n",
        "# ROC curve and AUC\n",
        "fpr, tpr, _ = roc_curve(test_generator.classes, y_pred_probs)\n",
        "roc_auc = auc(fpr, tpr)\n",
        "\n",
        "# Save TPR and FPR to CSV\n",
        "pd.DataFrame({'FPR': fpr, 'TPR': tpr}).to_csv('densenet121-20-s4.csv', index=False)\n",
        "\n",
        "print(f'AUC: {roc_auc:.4f}')\n",
        "\n",
        "# Save the model in .h5 format\n",
        "model.save('densenet121-20-p4.h5')\n",
        "\n",
        "# Save the model in .joblib format\n",
        "joblib.dump(model, 'densenet121-20-p4.joblib')\n",
        "\n",
        "# Plot training & validation accuracy values\n",
        "plt.figure(figsize=(14, 5))\n",
        "\n",
        "plt.subplot(1, 2, 1)\n",
        "plt.plot(history.history['accuracy'], label='Train Accuracy')\n",
        "plt.plot(history.history['val_accuracy'], label='Validation Accuracy')\n",
        "plt.title('Model Accuracy')\n",
        "plt.ylabel('Accuracy')\n",
        "plt.xlabel('Epoch')\n",
        "plt.legend()\n",
        "\n",
        "# Plot training & validation loss values\n",
        "plt.subplot(1, 2, 2)\n",
        "plt.plot(history.history['loss'], label='Train Loss')\n",
        "plt.plot(history.history['val_loss'], label='Validation Loss')\n",
        "plt.title('Model Loss')\n",
        "plt.ylabel('Loss')\n",
        "plt.xlabel('Epoch')\n",
        "plt.legend()\n",
        "\n",
        "plt.tight_layout()\n",
        "plt.show()"
      ],
      "metadata": {
        "id": "2r-OjtVbS8-p"
      },
      "execution_count": null,
      "outputs": []
    },
    {
      "cell_type": "code",
      "source": [
        "cm = confusion_matrix(test_generator.classes, y_pred_binary)\n",
        "\n",
        "# Plotting confusion matrix\n",
        "sns.heatmap(cm, annot=True, fmt='d', cmap='Blues', xticklabels=['Benign', 'Malignant'], yticklabels=['Benign', 'Malignant'])\n",
        "plt.xlabel('Predicted')\n",
        "plt.ylabel('Actual')\n",
        "plt.title('Confusion Matrix')\n",
        "plt.show()"
      ],
      "metadata": {
        "id": "1nitHADtS-zf"
      },
      "execution_count": null,
      "outputs": []
    },
    {
      "cell_type": "code",
      "source": [
        "y_pred=model.predict(test_generator)\n",
        "y_pred=np.argmax(y_pred,axis=1)"
      ],
      "metadata": {
        "id": "SLwTbkHYTAg-"
      },
      "execution_count": null,
      "outputs": []
    },
    {
      "cell_type": "code",
      "source": [
        "from sklearn.metrics import classification_report\n",
        "\n",
        "# Convert probabilities to binary predictions\n",
        "y_pred_binary = (y_pred_probs > 0.5).astype(int).flatten()  # Ensure it's a flat array\n",
        "\n",
        "# Generate the classification report\n",
        "print(\"\\nClassification Report:\")\n",
        "print(classification_report(test_generator.classes, y_pred_binary, target_names=['No Melanoma', 'Melanoma']))"
      ],
      "metadata": {
        "id": "G_elriXvTCXe"
      },
      "execution_count": null,
      "outputs": []
    },
    {
      "cell_type": "code",
      "source": [
        "model.save(\"denseNet.keras\")"
      ],
      "metadata": {
        "id": "ecW3hyKpTEEG"
      },
      "execution_count": null,
      "outputs": []
    },
    {
      "cell_type": "code",
      "source": [
        "# ========================="
      ],
      "metadata": {
        "id": "gRm5UtmwTGLA"
      },
      "execution_count": null,
      "outputs": []
    },
    {
      "cell_type": "code",
      "source": [
        "import os\n",
        "import shutil\n",
        "import itertools\n",
        "import pathlib\n",
        "\n",
        "\n",
        "import cv2\n",
        "import matplotlib.pyplot as plt\n",
        "import numpy as np\n",
        "import pandas as pd\n",
        "import seaborn as sns\n",
        "sns.set_style('whitegrid')\n",
        "from sklearn.model_selection import train_test_split\n",
        "from sklearn.metrics import confusion_matrix , classification_report\n",
        "\n",
        "import tensorflow as tf\n",
        "from tensorflow import keras\n",
        "from tensorflow.keras.models import Sequential\n",
        "from tensorflow.keras.layers import Conv2D , MaxPooling2D , Flatten , Activation , Dense , Dropout , BatchNormalization\n",
        "from tensorflow.keras.applications import VGG19\n",
        "from tensorflow.keras.preprocessing.image import ImageDataGenerator\n",
        "from tensorflow.keras.optimizers import Adam , Adamax\n",
        "from tensorflow.keras import regularizers\n"
      ],
      "metadata": {
        "id": "2ZL2CqkfTH4T"
      },
      "execution_count": null,
      "outputs": []
    },
    {
      "cell_type": "code",
      "source": [
        "test_dir = '/kaggle/input/melanoma-skin-cancer-dataset-of-10000-images/melanoma_cancer_dataset/test'\n",
        "filepaths = []\n",
        "labels = []\n",
        "\n",
        "files = os.listdir(test_dir)\n",
        "for file in files:\n",
        "    foldpath = os.path.join(test_dir,file)\n",
        "    filelist = os.listdir(foldpath)\n",
        "    for f in filelist:\n",
        "        fpath = os.path.join(foldpath,f)\n",
        "\n",
        "        filepaths.append(fpath)\n",
        "        labels.append(file)\n",
        "Fseries = pd.Series(filepaths, name= 'filepaths')\n",
        "Lseries = pd.Series(labels, name='labels')\n",
        "test_df = pd.concat([Fseries, Lseries], axis= 1)"
      ],
      "metadata": {
        "id": "76xkXm_5TJCO"
      },
      "execution_count": null,
      "outputs": []
    },
    {
      "cell_type": "code",
      "source": [
        "batch_size = 16\n",
        "img_size = (224, 224)\n",
        "channels = 3\n",
        "img_shape = (img_size[0], img_size[1], channels)\n",
        "\n",
        "tr_gen = ImageDataGenerator()\n",
        "ts_gen = ImageDataGenerator()\n",
        "\n",
        "train_gen = tr_gen.flow_from_dataframe( dataframe=train_df, x_col= 'filepaths', y_col= 'labels', target_size= img_size, class_mode= 'categorical',\n",
        "                                    color_mode= 'rgb', shuffle= True, batch_size= batch_size)\n",
        "\n",
        "test_gen = ts_gen.flow_from_dataframe( dataframe=test_df, x_col= 'filepaths', y_col= 'labels', target_size= img_size, class_mode= 'categorical',\n",
        "                                    color_mode= 'rgb', shuffle= False, batch_size= batch_size)"
      ],
      "metadata": {
        "id": "XiBoj6_sTK_9"
      },
      "execution_count": null,
      "outputs": []
    },
    {
      "cell_type": "code",
      "source": [
        "from tensorflow.keras.applications import VGG19\n",
        "from tensorflow.keras.models import Sequential\n",
        "from tensorflow.keras.layers import Dense, Flatten\n",
        "from tensorflow.keras.optimizers import Adam\n",
        "\n",
        "img_size = (224, 224)\n",
        "channels = 3\n",
        "img_shape = (img_size[0], img_size[1], channels)\n",
        "class_count = 2\n",
        "\n",
        "base_model = VGG19(weights='imagenet', include_top=False, input_shape=img_shape)\n",
        "base_model.trainable=False\n",
        "model2 = Sequential()\n",
        "model2.add(base_model)\n",
        "model2.add(Flatten())\n",
        "model2.add(Dense(512, activation='relu'))\n",
        "model2.add(Dropout(0.3))\n",
        "model2.add(Dense(256, activation='relu'))\n",
        "model2.add(Dropout(0.3))\n",
        "model2.add(Dense(class_count, activation='softmax'))\n",
        "model2.compile(optimizer=Adam(learning_rate=0.0001), loss='binary_crossentropy', metrics=['accuracy'])\n",
        "\n",
        "model2.summary()"
      ],
      "metadata": {
        "id": "-hzq42W9TMhN"
      },
      "execution_count": null,
      "outputs": []
    },
    {
      "cell_type": "code",
      "source": [
        "EPOCHS = 12\n",
        "history = model2.fit(x= train_gen, epochs= EPOCHS, verbose= 1, validation_data= test_gen,\n",
        "                    validation_steps= None, shuffle= False)"
      ],
      "metadata": {
        "id": "rvez8fdDTQRB"
      },
      "execution_count": null,
      "outputs": []
    },
    {
      "cell_type": "code",
      "source": [
        "loss,test=model2.evaluate(test_gen)\n",
        "print(loss)\n",
        "print(test)"
      ],
      "metadata": {
        "id": "nYiqQWTzTS94"
      },
      "execution_count": null,
      "outputs": []
    },
    {
      "cell_type": "code",
      "source": [
        "y_pred=model2.predict(test_gen)\n",
        "y_pred=np.argmax(y_pred,axis=1)\n",
        "y_pred_binary = (y_pred > 0.5).astype(int)"
      ],
      "metadata": {
        "id": "wZqHmXlJTU2T"
      },
      "execution_count": null,
      "outputs": []
    },
    {
      "cell_type": "code",
      "source": [
        "cm = confusion_matrix(test_gen.classes, y_pred_binary)\n",
        "\n",
        "# Plotting confusion matrix\n",
        "sns.heatmap(cm, annot=True, fmt='d', cmap='Blues', xticklabels=['Benign', 'Malignant'], yticklabels=['Benign', 'Malignant'])\n",
        "plt.xlabel('Predicted')\n",
        "plt.ylabel('Actual')\n",
        "plt.title('Confusion Matrix')\n",
        "plt.show()"
      ],
      "metadata": {
        "id": "upLr4vlnTWon"
      },
      "execution_count": null,
      "outputs": []
    },
    {
      "cell_type": "code",
      "source": [
        "from sklearn.metrics import classification_report\n",
        "\n",
        "print(classification_report(y_pred,test_gen.classes))"
      ],
      "metadata": {
        "id": "QIzprCWVTYSo"
      },
      "execution_count": null,
      "outputs": []
    },
    {
      "cell_type": "code",
      "source": [
        "model2.save(\"VGG192.keras\")"
      ],
      "metadata": {
        "id": "dZoZ4HRgTZ1R"
      },
      "execution_count": null,
      "outputs": []
    },
    {
      "cell_type": "code",
      "source": [
        "from tensorflow.keras.models import load_model\n",
        "\n",
        "# Load the models from Google Drive\n",
        "vgg19_model_path = '/kaggle/working/VGG192.keras'\n",
        "densenet_model_path = '/kaggle/working/denseNet.keras'\n",
        "\n",
        "vgg19_model = load_model(vgg19_model_path)\n",
        "densenet_model = load_model(densenet_model_path)"
      ],
      "metadata": {
        "id": "gpwxHNzVTbYj"
      },
      "execution_count": null,
      "outputs": []
    },
    {
      "cell_type": "code",
      "source": [
        "import numpy as np\n",
        "\n",
        "# Get predictions from both models on the validation data\n",
        "vgg19_predictions = vgg19_model.predict(test_gen)\n",
        "densenet_predictions = densenet_model.predict(test_gen)\n",
        "\n",
        "# Combine predictions (assuming binary classification)\n",
        "combined_predictions = (vgg19_predictions + densenet_predictions) / 2  # Average probabilities\n",
        "\n",
        "# Convert probabilities to class labels (0 or 1)\n",
        "final_predictions = np.where(combined_predictions > 0.5, 1, 0)  # Threshold at 0.5 for binary classification"
      ],
      "metadata": {
        "id": "2emc94PqTdKA"
      },
      "execution_count": null,
      "outputs": []
    },
    {
      "cell_type": "code",
      "source": [
        "from tensorflow.keras.models import load_model\n",
        "from sklearn.metrics import accuracy_score, classification_report\n",
        "import numpy as np\n",
        "\n",
        "# Load the models\n",
        "vgg19_model_path = '/kaggle/working/VGG192.keras'\n",
        "densenet_model_path = '/kaggle/working/denseNet.keras'\n",
        "\n",
        "vgg19_model = load_model(vgg19_model_path)\n",
        "densenet_model = load_model(densenet_model_path)\n",
        "\n",
        "# Get predictions from both models on the test data\n",
        "vgg19_predictions = vgg19_model.predict(test_gen)\n",
        "densenet_predictions = densenet_model.predict(test_gen)\n",
        "\n",
        "# Check the mean prediction values\n",
        "print(f\"VGG19 Mean Predictions: {np.mean(vgg19_predictions):.3f}\")\n",
        "print(f\"DenseNet121 Mean Predictions: {np.mean(densenet_predictions):.3f}\")\n",
        "\n",
        "# Weighted stacking: Apply weights to each model's predictions\n",
        "vgg19_weight = 0.6\n",
        "densenet_weight = 0.4\n",
        "\n",
        "# Calculate weighted predictions\n",
        "weighted_predictions = (vgg19_weight * vgg19_predictions) + (densenet_weight * densenet_predictions)\n",
        "\n",
        "# Convert probabilities to binary class labels based on threshold 0.5\n",
        "final_predictions_weighted = np.argmax(weighted_predictions, axis=1)  # Convert to class indices\n",
        "\n",
        "# Extract true labels\n",
        "y_true = test_gen.classes  # Ensure this is a 1D array of class indices\n",
        "\n",
        "# Evaluate weighted stacking ensemble\n",
        "accuracy_weighted = accuracy_score(y_true, final_predictions_weighted)\n",
        "print(f\"Weighted Stacking Model Accuracy: {accuracy_weighted:.4f}\")\n",
        "\n",
        "# Classification report\n",
        "print(\"Weighted Stacking Classification Report:\")\n",
        "print(classification_report(y_true, final_predictions_weighted))\n",
        "\n",
        "# Analyze prediction distribution\n",
        "unique, counts = np.unique(final_predictions_weighted, return_counts=True)\n",
        "print(f\"Prediction Distribution: {dict(zip(unique, counts))}\")\n"
      ],
      "metadata": {
        "id": "fcKn5OK_TfN-"
      },
      "execution_count": null,
      "outputs": []
    }
  ]
}